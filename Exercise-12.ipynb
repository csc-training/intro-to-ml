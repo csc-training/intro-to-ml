{
 "cells": [
  {
   "cell_type": "markdown",
   "metadata": {},
   "source": [
    "# MNIST handwritten digits visualization with scikit-learn\n",
    "\n",
    "In this notebook, we'll use some popular visualization techniques to visualize MNIST digits.  This notebook is based on the scikit-learn embedding examples found [here](http://scikit-learn.org/stable/auto_examples/manifold/plot_lle_digits.html).\n",
    "\n",
    "First, the needed imports."
   ]
  },
  {
   "cell_type": "code",
   "execution_count": null,
   "metadata": {},
   "outputs": [],
   "source": [
    "%matplotlib inline\n",
    "\n",
    "from time import time\n",
    "\n",
    "from pml_utils import get_mnist\n",
    "\n",
    "import numpy as np\n",
    "import sklearn\n",
    "from sklearn import random_projection, decomposition, manifold, __version__\n",
    "\n",
    "import matplotlib.pyplot as plt\n",
    "\n",
    "from packaging.version import Version\n",
    "assert(Version(__version__) >= Version(\"0.20\")), \"Version >= 0.20 of sklearn is required.\""
   ]
  },
  {
   "cell_type": "markdown",
   "metadata": {},
   "source": [
    "Then we load the MNIST data. First time it downloads the data, which can take a while.\n",
    "\n",
    "In this notebook, we only use 1024 first samples of the training data.  This reduces the time needed to calculate the visualizations and makes the visualizations appear less crowded."
   ]
  },
  {
   "cell_type": "code",
   "execution_count": null,
   "metadata": {},
   "outputs": [],
   "source": [
    "X_train, y_train, X_test, y_test = get_mnist('MNIST')\n",
    "\n",
    "# Let's inspect only 1024 first training samples in this notebook\n",
    "X = X_train[:1024]\n",
    "y = y_train[:1024]\n",
    "print()\n",
    "print('MNIST data loaded:')\n",
    "print('X:', X.shape)\n",
    "print('y:', y.shape)"
   ]
  },
  {
   "cell_type": "markdown",
   "metadata": {},
   "source": [
    "Let's start by inspecting our data.  For such a small dataset, we can actually draw all the samples at once:"
   ]
  },
  {
   "cell_type": "code",
   "execution_count": null,
   "metadata": {},
   "outputs": [],
   "source": [
    "n_img_per_row = 32 # 32*32=1024\n",
    "img = np.zeros((28 * n_img_per_row, 28 * n_img_per_row))\n",
    "\n",
    "for i in range(n_img_per_row):\n",
    "    ix = 28 * i\n",
    "    for j in range(n_img_per_row):    \n",
    "        iy = 28 * j\n",
    "        img[ix:ix + 28, iy:iy + 28] = X[i * n_img_per_row + j,:].reshape(28,28)\n",
    "img = np.max(img)-img\n",
    "\n",
    "plt.figure(figsize=(9, 9))\n",
    "plt.imshow(img, cmap='gray')\n",
    "plt.title('1024 first MNIST digits')\n",
    "ax=plt.axis('off')"
   ]
  },
  {
   "cell_type": "markdown",
   "metadata": {},
   "source": [
    "Let's define a helper function to plot the different visualizations:"
   ]
  },
  {
   "cell_type": "code",
   "execution_count": null,
   "metadata": {},
   "outputs": [],
   "source": [
    "def plot_embedding(X, title=None, time=None, show_digits=True):\n",
    "    x_min, x_max = np.min(X, 0), np.max(X, 0)\n",
    "    X = (X - x_min) / (x_max - x_min)\n",
    "\n",
    "    plt.figure(figsize=(9,6))\n",
    "    plt.axis('off')\n",
    "    if show_digits:\n",
    "        for i in range(X.shape[0]):\n",
    "            plt.text(X[i, 0], X[i, 1], str(y[i]),\n",
    "                     color=plt.cm.Set1(int(y[i]) / 10.),\n",
    "                     fontdict={'weight': 'bold', 'size': 9})\n",
    "    else:\n",
    "        s = plt.scatter(X[:, 0], X[:, 1],\n",
    "                        color=[plt.cm.Set1(int(yi) / 10.) for yi in y])\n",
    "\n",
    "    if title is not None:\n",
    "        if t0 is not None:\n",
    "            plt.title(\"%s (%.2fs)\" % (title, time))\n",
    "        else:\n",
    "            plt.title(title)"
   ]
  },
  {
   "cell_type": "markdown",
   "metadata": {},
   "source": [
    "## 1. Random projection\n",
    "\n",
    "A simple first visualization is a [random projection](http://scikit-learn.org/stable/modules/random_projection.html#random-projection) of the data into two dimensions."
   ]
  },
  {
   "cell_type": "code",
   "execution_count": null,
   "metadata": {},
   "outputs": [],
   "source": [
    "t0 = time()\n",
    "rp = random_projection.SparseRandomProjection(n_components=2, random_state=42)\n",
    "X_projected = rp.fit_transform(X)\n",
    "t = time() - t0\n",
    "\n",
    "plot_embedding(X_projected, \"Random projection\", t)"
   ]
  },
  {
   "cell_type": "markdown",
   "metadata": {},
   "source": [
    "The data can also be plotted with points instead of digit labels by setting `show_digits=False`:"
   ]
  },
  {
   "cell_type": "code",
   "execution_count": null,
   "metadata": {},
   "outputs": [],
   "source": [
    "plot_embedding(X_projected, \"Random projection\", t, show_digits=False)"
   ]
  },
  {
   "cell_type": "markdown",
   "metadata": {},
   "source": [
    "## 2. PCA\n",
    "\n",
    "[Principal component analysis](http://scikit-learn.org/stable/modules/decomposition.html#pca) (PCA) is a standard method to decompose a high-dimensional dataset in a set of successive orthogonal components that explain a maximum amount of the variance. Here we project the data into two first principal components. The components have the maximal possible variance under the orthogonality constraint."
   ]
  },
  {
   "cell_type": "code",
   "execution_count": null,
   "metadata": {},
   "outputs": [],
   "source": [
    "t0 = time()\n",
    "pca = decomposition.PCA(n_components=2)\n",
    "X_pca = pca.fit_transform(X)\n",
    "t = time() - t0\n",
    "\n",
    "plot_embedding(X_pca, \"PCA projection\", t)"
   ]
  },
  {
   "cell_type": "markdown",
   "metadata": {},
   "source": [
    "## 3. MDS\n",
    "\n",
    "[Multidimensional scaling](http://scikit-learn.org/stable/modules/manifold.html#multidimensional-scaling) (MDS) seeks a low-dimensional representation of the data in which the distances try to respect the distances in the original high-dimensional space.  "
   ]
  },
  {
   "cell_type": "code",
   "execution_count": null,
   "metadata": {},
   "outputs": [],
   "source": [
    "t0 = time()\n",
    "mds = manifold.MDS(n_components=2, max_iter=500)\n",
    "X_mds = mds.fit_transform(X)\n",
    "t = time() - t0\n",
    "\n",
    "plot_embedding(X_mds, \"MDS embedding\", t)"
   ]
  },
  {
   "cell_type": "markdown",
   "metadata": {},
   "source": [
    "## 4. t-SNE\n",
    "\n",
    "[t-distributed Stochastic Neighbor Embedding](http://scikit-learn.org/stable/modules/manifold.html#t-sne) (t-SNE) is a relatively new and popular tool to visualize high-dimensional data.  t-SNE is particularly sensitive to local structure and can often reveal clusters in the data.\n",
    "\n",
    "t-SNE has an important tuneable parameter called `perplexity`, that can have a large effect on the resulting visualization, depending on the data.  Typical values for perplexity are between 5 and 50.  "
   ]
  },
  {
   "cell_type": "code",
   "execution_count": null,
   "metadata": {},
   "outputs": [],
   "source": [
    "t0 = time()\n",
    "perplexity=30\n",
    "tsne = manifold.TSNE(n_components=2, perplexity=perplexity)\n",
    "X_tsne = tsne.fit_transform(X)\n",
    "t = time() - t0\n",
    "\n",
    "plot_embedding(X_tsne, \"t-SNE embedding with perplexity=%d\" % perplexity, t)"
   ]
  },
  {
   "cell_type": "markdown",
   "metadata": {},
   "source": [
    "## 5. Further visualizations\n",
    "\n",
    "Take a look at the original scikit-learn [embedding examples](http://scikit-learn.org/stable/auto_examples/manifold/plot_lle_digits.html) for more visualizations.  Try some of these (for example LLE and isomap) on the MNIST data."
   ]
  },
  {
   "cell_type": "code",
   "execution_count": null,
   "metadata": {},
   "outputs": [],
   "source": []
  }
 ],
 "metadata": {
  "kernelspec": {
   "display_name": "Python 3 (ipykernel)",
   "language": "python",
   "name": "python3"
  },
  "language_info": {
   "codemirror_mode": {
    "name": "ipython",
    "version": 3
   },
   "file_extension": ".py",
   "mimetype": "text/x-python",
   "name": "python",
   "nbconvert_exporter": "python",
   "pygments_lexer": "ipython3",
   "version": "3.11.9"
  }
 },
 "nbformat": 4,
 "nbformat_minor": 4
}

{
 "cells": [
  {
   "cell_type": "markdown",
   "metadata": {},
   "source": [
    "# MNIST handwritten digits clustering\n",
    "\n",
    "In this notebook, we'll use some common clustering algorithms to analyze MNIST digits using scikit-learn.\n",
    "\n",
    "First, the needed imports. "
   ]
  },
  {
   "cell_type": "code",
   "execution_count": null,
   "metadata": {},
   "outputs": [],
   "source": [
    "%matplotlib inline\n",
    "\n",
    "from pml_utils import get_mnist, show_clusters\n",
    "\n",
    "import numpy as np\n",
    "from sklearn import __version__\n",
    "from sklearn.cluster import KMeans, AgglomerativeClustering\n",
    "from sklearn.metrics import adjusted_rand_score\n",
    "\n",
    "import matplotlib.pyplot as plt\n",
    "import seaborn as sns\n",
    "sns.set()\n",
    "\n",
    "from packaging.version import Version\n",
    "assert(Version(__version__) >= Version(\"0.20\")), \"Version >= 0.20 of sklearn is required.\""
   ]
  },
  {
   "cell_type": "markdown",
   "metadata": {},
   "source": [
    "Then we load the MNIST data. First time it downloads the data, which can take a while.\n",
    "\n",
    "To speed up the computations, let's use only 10000 digits in this notebook."
   ]
  },
  {
   "cell_type": "code",
   "execution_count": null,
   "metadata": {},
   "outputs": [],
   "source": [
    "X_train, y_train, X_test, y_test = get_mnist('MNIST')\n",
    "\n",
    "X = X_train[:10000]\n",
    "y = y_train[:10000]\n",
    "print()\n",
    "print('MNIST data loaded:')\n",
    "print('X:', X.shape)\n",
    "print('y:', y.shape)"
   ]
  },
  {
   "cell_type": "markdown",
   "metadata": {},
   "source": [
    "## k-means\n",
    "\n",
    "[K-means](https://scikit-learn.org/stable/modules/generated/sklearn.cluster.KMeans.html#sklearn.cluster.KMeans) clusters data by trying to separate samples in *k* groups of equal variance using an iterative two-step algorithm. It requires the number of clusters as a parameter."
   ]
  },
  {
   "cell_type": "code",
   "execution_count": null,
   "metadata": {},
   "outputs": [],
   "source": [
    "%%time\n",
    "\n",
    "n_clusters_kmeans = 10\n",
    "\n",
    "kmeans = KMeans(n_clusters=n_clusters_kmeans)\n",
    "kmeans.fit(X)"
   ]
  },
  {
   "cell_type": "markdown",
   "metadata": {},
   "source": [
    "The sizes of the clusters:"
   ]
  },
  {
   "cell_type": "code",
   "execution_count": null,
   "metadata": {},
   "outputs": [],
   "source": [
    "plt.hist(kmeans.labels_, bins=range(kmeans.n_clusters+1),\n",
    "         rwidth=0.5)\n",
    "plt.xticks(0.5+np.arange(kmeans.n_clusters),\n",
    "           np.arange(kmeans.n_clusters))\n",
    "plt.title('Cluster sizes');"
   ]
  },
  {
   "cell_type": "markdown",
   "metadata": {},
   "source": [
    "The k-means centroids are vectors in the same space as the original data, so we can take a look at them:"
   ]
  },
  {
   "cell_type": "code",
   "execution_count": null,
   "metadata": {},
   "outputs": [],
   "source": [
    "plt.figure(figsize=(kmeans.n_clusters, 1))\n",
    "\n",
    "for i in range(kmeans.n_clusters):\n",
    "    plt.subplot(1, kmeans.n_clusters, i+1)\n",
    "    plt.axis('off')\n",
    "    plt.imshow(kmeans.cluster_centers_[i,:].reshape(28,28), cmap=\"gray\")\n",
    "    plt.title(str(i))"
   ]
  },
  {
   "cell_type": "markdown",
   "metadata": {},
   "source": [
    "Let's also draw some digits from each cluster:"
   ]
  },
  {
   "cell_type": "code",
   "execution_count": null,
   "metadata": {},
   "outputs": [],
   "source": [
    "show_clusters(kmeans.labels_, kmeans.n_clusters, X)"
   ]
  },
  {
   "cell_type": "markdown",
   "metadata": {},
   "source": [
    "### Evaluation\n",
    "\n",
    "Since we know the correct labels for MNIST digits, we can evaluate the quality of the clustering. We'll use the [adjusted Rand index](https://scikit-learn.org/stable/modules/generated/sklearn.metrics.adjusted_rand_score.html) which considers all pairs of samples and counts pairs that are assigned in the same or different clusters in the predicted and true clusterings. The index is between 0.0 and 1.0 with higher values denoting better clusterings."
   ]
  },
  {
   "cell_type": "code",
   "execution_count": null,
   "metadata": {},
   "outputs": [],
   "source": [
    "print(\"Adjusted Rand index: %.3f\"\n",
    "      % adjusted_rand_score(y, kmeans.labels_))"
   ]
  },
  {
   "cell_type": "markdown",
   "metadata": {},
   "source": [
    "## Hierarchical clustering\n",
    "\n",
    "Hierarchical clustering is a family of clustering algorithms that build nested clusters by merging or splitting them successively. We'll use here [agglomerative clustering](https://scikit-learn.org/stable/modules/generated/sklearn.cluster.AgglomerativeClustering.html#sklearn.cluster.AgglomerativeClustering), in which all samples start in separate clusters and are then successively merged together.\n",
    "\n",
    "The `linkage` criteria determines the metric used for the merge strategy:\n",
    "* `ward` minimizes the sum of squared differences within all clusters\n",
    "* `complete` linkage minimizes the maximum distance between observations of pairs of clusters\n",
    "* `average` linkage minimizes the average of the distances between all observations of pairs of clusters\n",
    "* `single` linkage minimizes the distance between the closest observations of pairs of clusters"
   ]
  },
  {
   "cell_type": "code",
   "execution_count": null,
   "metadata": {},
   "outputs": [],
   "source": [
    "%%time\n",
    "\n",
    "n_clusters_hclust = 10\n",
    "linkage_hclust = \"ward\"\n",
    "\n",
    "hclust = AgglomerativeClustering(n_clusters=n_clusters_hclust,\n",
    "                                 linkage=linkage_hclust)\n",
    "hclust.fit(X)"
   ]
  },
  {
   "cell_type": "markdown",
   "metadata": {},
   "source": [
    "The sizes of the clusters:"
   ]
  },
  {
   "cell_type": "code",
   "execution_count": null,
   "metadata": {},
   "outputs": [],
   "source": [
    "plt.hist(hclust.labels_, bins=range(hclust.n_clusters+1),\n",
    "         rwidth=0.5)\n",
    "plt.xticks(0.5+np.arange(hclust.n_clusters),\n",
    "           np.arange(hclust.n_clusters))\n",
    "plt.title('Cluster sizes');"
   ]
  },
  {
   "cell_type": "markdown",
   "metadata": {},
   "source": [
    "Some digits from each cluster:"
   ]
  },
  {
   "cell_type": "code",
   "execution_count": null,
   "metadata": {},
   "outputs": [],
   "source": [
    "show_clusters(hclust.labels_, hclust.n_clusters, X)"
   ]
  },
  {
   "cell_type": "markdown",
   "metadata": {},
   "source": [
    "### Evaluation"
   ]
  },
  {
   "cell_type": "code",
   "execution_count": null,
   "metadata": {},
   "outputs": [],
   "source": [
    "print(\"Adjusted Rand index: %.3f\"\n",
    "      % adjusted_rand_score(y, hclust.labels_))"
   ]
  },
  {
   "cell_type": "markdown",
   "metadata": {},
   "source": [
    "## Experiments\n",
    "\n",
    "1. Experiment with different numbers of clusters, different linkage criteria, and other parameters for [k-means](https://scikit-learn.org/stable/modules/generated/sklearn.cluster.KMeans.html#sklearn.cluster.KMeans) and [hierarchical clustering](https://scikit-learn.org/stable/modules/generated/sklearn.cluster.AgglomerativeClustering.html#sklearn.cluster.AgglomerativeClustering).\n",
    "\n",
    "2. Evaluate different clustering methods using Rand index scores with `n_clusters=10`. What is the best clustering algorithm according to this measure?\n",
    "\n",
    "3. Try other clustering methods available in scikit-learn. See [Clustering](https://scikit-learn.org/stable/modules/clustering.html#clustering) to get started."
   ]
  },
  {
   "cell_type": "code",
   "execution_count": null,
   "metadata": {},
   "outputs": [],
   "source": []
  }
 ],
 "metadata": {
  "kernelspec": {
   "display_name": "Python 3 (ipykernel)",
   "language": "python",
   "name": "python3"
  },
  "language_info": {
   "codemirror_mode": {
    "name": "ipython",
    "version": 3
   },
   "file_extension": ".py",
   "mimetype": "text/x-python",
   "name": "python",
   "nbconvert_exporter": "python",
   "pygments_lexer": "ipython3",
   "version": "3.11.9"
  }
 },
 "nbformat": 4,
 "nbformat_minor": 4
}
